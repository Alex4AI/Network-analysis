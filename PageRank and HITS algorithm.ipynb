{
 "cells": [
  {
   "cell_type": "markdown",
   "metadata": {},
   "source": [
    "# PageRank and HITS algorithm\n",
    "\n",
    "Explore measures of centrality on two networks, a friendship network in Part 1, and a blog network in Part 2."
   ]
  },
  {
   "cell_type": "markdown",
   "metadata": {},
   "source": [
    "## Part 1 : friendship network\n",
    "\n",
    "Network `G1`, a network of friendships at a university department. \n",
    "\n",
    "- Each node corresponds to a person\n",
    "- an edge indicates friendship. "
   ]
  },
  {
   "cell_type": "code",
   "execution_count": 1,
   "metadata": {},
   "outputs": [],
   "source": [
    "import networkx as nx\n",
    "\n",
    "G1 = nx.read_gml('friendships.gml')"
   ]
  },
  {
   "cell_type": "markdown",
   "metadata": {},
   "source": [
    "Study of node 100 :\n",
    "\n",
    "- <b>Degree centrality :</b> number of links incident upon a node\n",
    "- <b>Closeness centrality :</b> average length of the shortest path between the node and all other nodes in the graph\n",
    "- <b>Normalized betweeness centrality</b> (excluding endpoints) : number of times a node acts as a bridge along the shortest path between two other nodes\n",
    "\n",
    "output:`(degree_centrality, closeness_centrality, betweenness_centrality)`"
   ]
  },
  {
   "cell_type": "code",
   "execution_count": 2,
   "metadata": {},
   "outputs": [
    {
     "data": {
      "text/plain": [
       "(0.0026501766784452294, 0.2654784240150094, 7.142902633244772e-05)"
      ]
     },
     "execution_count": 2,
     "metadata": {},
     "output_type": "execute_result"
    }
   ],
   "source": [
    "degree_centrality = nx.degree_centrality(G1)[100]\n",
    "closeness_centrality = nx.closeness_centrality(G1)[100]\n",
    "betweenness_centrality = nx.betweenness_centrality(G1, endpoints=False, normalized=True)[100]\n",
    "    \n",
    "degree_centrality, closeness_centrality, betweenness_centrality"
   ]
  },
  {
   "cell_type": "markdown",
   "metadata": {},
   "source": [
    "#### Let's assume that you do not know anything about the structure of the network, except for the all the centrality values of the nodes. That is, use one of the covered centrality measures to rank the nodes and find the most appropriate candidate."
   ]
  },
  {
   "cell_type": "markdown",
   "metadata": {},
   "source": [
    "Suppose you are employed by an online shopping website and are tasked with selecting one user in network `G1` to send an online shopping voucher to. We expect that the user who receives the voucher will send it to their friends in the network.  You want the voucher to reach as many nodes as possible. The voucher can be forwarded to multiple users at the same time, but the travel distance of the voucher is limited to one step, which means if the voucher travels more than one step in this network, it is no longer valid. Apply your knowledge in network centrality to select the best candidate for the voucher. "
   ]
  },
  {
   "cell_type": "code",
   "execution_count": 3,
   "metadata": {
    "scrolled": true
   },
   "outputs": [
    {
     "data": {
      "text/plain": [
       "105"
      ]
     },
     "execution_count": 3,
     "metadata": {},
     "output_type": "execute_result"
    }
   ],
   "source": [
    "degree = nx.degree_centrality(G1)\n",
    "max_node = None\n",
    "max_degree = -1\n",
    "    \n",
    "for key, value in degree.items():\n",
    "    if value > max_degree:\n",
    "        max_degree = value\n",
    "        max_node = key\n",
    "            \n",
    "max_node"
   ]
  },
  {
   "cell_type": "markdown",
   "metadata": {},
   "source": [
    "Now the limit of the voucher’s travel distance has been removed. Because the network is connected, regardless of who you pick, every node in the network will eventually receive the voucher. However, we now want to ensure that the voucher reaches the nodes in the lowest average number of hops.\n",
    "\n",
    "How would you change your selection strategy? Write a function to tell us who is the best candidate in the network under this condition."
   ]
  },
  {
   "cell_type": "code",
   "execution_count": 4,
   "metadata": {
    "scrolled": false
   },
   "outputs": [
    {
     "data": {
      "text/plain": [
       "23"
      ]
     },
     "execution_count": 4,
     "metadata": {},
     "output_type": "execute_result"
    }
   ],
   "source": [
    "degree = nx.closeness_centrality(G1)\n",
    "max_node = None\n",
    "max_degree = -1\n",
    "\n",
    "for key, value in degree.items():\n",
    "    if value > max_degree:\n",
    "        max_degree = value\n",
    "        max_node = key\n",
    "            \n",
    "max_node"
   ]
  },
  {
   "cell_type": "markdown",
   "metadata": {},
   "source": [
    "Assume the restriction on the voucher’s travel distance is still removed, but now a competitor has developed a strategy to remove a person from the network in order to disrupt the distribution of your company’s voucher. Your competitor is specifically targeting people who are often bridges of information flow between other pairs of people. Identify the single riskiest person to be removed under your competitor’s strategy?"
   ]
  },
  {
   "cell_type": "code",
   "execution_count": 5,
   "metadata": {},
   "outputs": [
    {
     "data": {
      "text/plain": [
       "333"
      ]
     },
     "execution_count": 5,
     "metadata": {},
     "output_type": "execute_result"
    }
   ],
   "source": [
    "degree = nx.betweenness_centrality(G1)\n",
    "max_node = None\n",
    "max_degree = -1\n",
    "    \n",
    "for key, value in degree.items():\n",
    "    if value > max_degree:\n",
    "        max_degree = value\n",
    "        max_node = key\n",
    "            \n",
    "max_node"
   ]
  },
  {
   "cell_type": "markdown",
   "metadata": {
    "collapsed": true
   },
   "source": [
    "## Part 2 : blog network\n",
    "\n",
    "`G2` is a directed network of political blogs, where nodes correspond to a blog and edges correspond to links between blogs. \n",
    "\n",
    "<b>PageRank algorithm :</b> count the number and quality of links to a page to determine a rough estimate of how important the website is. <br><br>\n",
    "\n",
    "<b>HITS algorithm :</b>  assigns two scores for each page\n",
    "- its authority, which estimates the value of the content of the page.\n",
    "- its hub value, which estimates the value of its links to other pages. "
   ]
  },
  {
   "cell_type": "code",
   "execution_count": 6,
   "metadata": {},
   "outputs": [],
   "source": [
    "G2 = nx.read_gml('blogs.gml')"
   ]
  },
  {
   "cell_type": "markdown",
   "metadata": {},
   "source": [
    "Apply the Scaled Page Rank Algorithm to this network. Find the Page Rank of node 'realclearpolitics.com' with damping value 0.85."
   ]
  },
  {
   "cell_type": "code",
   "execution_count": 7,
   "metadata": {},
   "outputs": [
    {
     "data": {
      "text/plain": [
       "0.004636694781649095"
      ]
     },
     "execution_count": 7,
     "metadata": {},
     "output_type": "execute_result"
    }
   ],
   "source": [
    "pr = nx.pagerank(G2,alpha=0.85)\n",
    "    \n",
    "pr['realclearpolitics.com']"
   ]
  },
  {
   "cell_type": "markdown",
   "metadata": {},
   "source": [
    "Apply the Scaled Page Rank Algorithm to this network with damping value 0.85. Find the 5 nodes with highest Page Rank. "
   ]
  },
  {
   "cell_type": "code",
   "execution_count": 8,
   "metadata": {},
   "outputs": [
    {
     "data": {
      "text/plain": [
       "['dailykos.com',\n",
       " 'atrios.blogspot.com',\n",
       " 'instapundit.com',\n",
       " 'blogsforbush.com',\n",
       " 'talkingpointsmemo.com']"
      ]
     },
     "execution_count": 8,
     "metadata": {},
     "output_type": "execute_result"
    }
   ],
   "source": [
    "res = sorted(list(pr.items()), key=lambda x: x[1], reverse=True)\n",
    "\n",
    "[el[0] for el in res[:5]]"
   ]
  },
  {
   "cell_type": "markdown",
   "metadata": {
    "collapsed": true
   },
   "source": [
    "Apply the HITS Algorithm to the network to find the hub and authority scores of node 'realclearpolitics.com'. \n",
    "\n",
    "output : `(hub_score, authority_score)`"
   ]
  },
  {
   "cell_type": "code",
   "execution_count": 9,
   "metadata": {},
   "outputs": [
    {
     "data": {
      "text/plain": [
       "(0.00032435561409166773, 0.003918957645699845)"
      ]
     },
     "execution_count": 9,
     "metadata": {},
     "output_type": "execute_result"
    }
   ],
   "source": [
    "hits = nx.hits(G2)\n",
    "node = 'realclearpolitics.com'\n",
    "    \n",
    "hits[0][node], hits[1][node]"
   ]
  },
  {
   "cell_type": "markdown",
   "metadata": {
    "collapsed": true
   },
   "source": [
    "Apply the HITS Algorithm to this network to find the 5 nodes with highest <b>hub scores.</b>"
   ]
  },
  {
   "cell_type": "code",
   "execution_count": 10,
   "metadata": {},
   "outputs": [
    {
     "data": {
      "text/plain": [
       "['politicalstrategy.org',\n",
       " 'madkane.com/notable.html',\n",
       " 'liberaloasis.com',\n",
       " 'stagefour.typepad.com/commonprejudice',\n",
       " 'bodyandsoul.typepad.com']"
      ]
     },
     "execution_count": 10,
     "metadata": {},
     "output_type": "execute_result"
    }
   ],
   "source": [
    "hits = nx.hits(G2)\n",
    "hubs = hits[0]\n",
    "    \n",
    "sorted(hubs.keys(), key=lambda key:hubs[key], reverse=True)[:5]"
   ]
  },
  {
   "cell_type": "markdown",
   "metadata": {},
   "source": [
    "Apply the HITS Algorithm to this network to find the 5 nodes with highest <b>authority scores.</b>"
   ]
  },
  {
   "cell_type": "code",
   "execution_count": 11,
   "metadata": {},
   "outputs": [
    {
     "data": {
      "text/plain": [
       "['dailykos.com',\n",
       " 'talkingpointsmemo.com',\n",
       " 'atrios.blogspot.com',\n",
       " 'washingtonmonthly.com',\n",
       " 'talkleft.com']"
      ]
     },
     "execution_count": 11,
     "metadata": {},
     "output_type": "execute_result"
    }
   ],
   "source": [
    "hits = nx.hits(G2)\n",
    "auth = hits[1]\n",
    "    \n",
    "sorted(auth.keys(), key=lambda key:auth[key], reverse=True)[:5]"
   ]
  },
  {
   "cell_type": "code",
   "execution_count": null,
   "metadata": {},
   "outputs": [],
   "source": []
  }
 ],
 "metadata": {
  "coursera": {
   "course_slug": "python-social-network-analysis",
   "graded_item_id": "4XCse",
   "launcher_item_id": "utvmz",
   "part_id": "cZ7Jg"
  },
  "kernelspec": {
   "display_name": "Python 3",
   "language": "python",
   "name": "python3"
  },
  "language_info": {
   "codemirror_mode": {
    "name": "ipython",
    "version": 3
   },
   "file_extension": ".py",
   "mimetype": "text/x-python",
   "name": "python",
   "nbconvert_exporter": "python",
   "pygments_lexer": "ipython3",
   "version": "3.5.6"
  }
 },
 "nbformat": 4,
 "nbformat_minor": 2
}
