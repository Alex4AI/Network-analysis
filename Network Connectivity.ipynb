{
 "cells": [
  {
   "cell_type": "markdown",
   "metadata": {},
   "source": [
    "# Network Connectivity\n",
    "\n",
    "Import and analyze an internal <b>email communication network between employees</b> of a mid-sized manufacturing company. \n",
    "\n",
    "- Each node represents an employee \n",
    "- Each directed edge between two nodes represents an individual email. \n",
    "\n",
    "The left node represents the sender and the right node represents the recipient.\n",
    "\n",
    "File : `email_network.txt`\n"
   ]
  },
  {
   "cell_type": "code",
   "execution_count": 1,
   "metadata": {},
   "outputs": [],
   "source": [
    "import networkx as nx\n",
    "%matplotlib notebook\n",
    "import matplotlib.pyplot as plt"
   ]
  },
  {
   "cell_type": "markdown",
   "metadata": {},
   "source": [
    "Using networkx, load up the <b>directed multigraph</b> from `email_network.txt`"
   ]
  },
  {
   "cell_type": "code",
   "execution_count": 2,
   "metadata": {},
   "outputs": [],
   "source": [
    "G = nx.read_edgelist('email_network.txt', delimiter='\\t', data=[('time', int)], create_using=nx.MultiDiGraph())"
   ]
  },
  {
   "cell_type": "markdown",
   "metadata": {},
   "source": [
    "How many employees and emails are represented in the graph ?"
   ]
  },
  {
   "cell_type": "code",
   "execution_count": 3,
   "metadata": {},
   "outputs": [
    {
     "data": {
      "text/plain": [
       "(167, 82927)"
      ]
     },
     "execution_count": 3,
     "metadata": {},
     "output_type": "execute_result"
    }
   ],
   "source": [
    "len(G.nodes()), len(G.edges())"
   ]
  },
  {
   "cell_type": "markdown",
   "metadata": {},
   "source": [
    "Assume that information in this company can only be exchanged through email.\n",
    "\n",
    "When an employee sends an email to another employee, a communication channel has been created, allowing the sender to provide information to the receiver, but not vice versa. \n",
    "\n",
    "Based on the emails sent in the data, is it possible for information to go from every employee to every other employee?"
   ]
  },
  {
   "cell_type": "code",
   "execution_count": 4,
   "metadata": {},
   "outputs": [
    {
     "data": {
      "text/plain": [
       "False"
      ]
     },
     "execution_count": 4,
     "metadata": {},
     "output_type": "execute_result"
    }
   ],
   "source": [
    "nx.is_strongly_connected(G)"
   ]
  },
  {
   "cell_type": "markdown",
   "metadata": {},
   "source": [
    "Now assume that a communication channel established by an email allows information to be exchanged both ways.\n",
    "Based on the emails sent in the data, is it possible for information to go from every employee to every other employee?\n"
   ]
  },
  {
   "cell_type": "code",
   "execution_count": 5,
   "metadata": {},
   "outputs": [
    {
     "data": {
      "text/plain": [
       "True"
      ]
     },
     "execution_count": 5,
     "metadata": {},
     "output_type": "execute_result"
    }
   ],
   "source": [
    "nx.is_connected(G.to_undirected())"
   ]
  },
  {
   "cell_type": "markdown",
   "metadata": {},
   "source": [
    "How many nodes are in the largest (in terms of nodes) weakly connected component?"
   ]
  },
  {
   "cell_type": "code",
   "execution_count": 6,
   "metadata": {
    "scrolled": true
   },
   "outputs": [
    {
     "data": {
      "text/plain": [
       "167"
      ]
     },
     "execution_count": 6,
     "metadata": {},
     "output_type": "execute_result"
    }
   ],
   "source": [
    "weak = nx.weakly_connected_components(G)\n",
    "len(max(weak, key=len))"
   ]
  },
  {
   "cell_type": "markdown",
   "metadata": {},
   "source": [
    "How many nodes are in the largest (in terms of nodes) strongly connected component?"
   ]
  },
  {
   "cell_type": "code",
   "execution_count": 7,
   "metadata": {},
   "outputs": [
    {
     "data": {
      "text/plain": [
       "126"
      ]
     },
     "execution_count": 7,
     "metadata": {},
     "output_type": "execute_result"
    }
   ],
   "source": [
    "strong = nx.strongly_connected_components(G)\n",
    "    \n",
    "len(max(strong, key=len))"
   ]
  },
  {
   "cell_type": "markdown",
   "metadata": {},
   "source": [
    "### G_sc : subgraph of nodes in a largest strongly connected component\n",
    "\n",
    "<b>Strongly connected component :</b> A directed graph is called strongly connected if there is a path in each direction between each pair of vertices of the graph.\n",
    "\n"
   ]
  },
  {
   "cell_type": "code",
   "execution_count": 8,
   "metadata": {},
   "outputs": [],
   "source": [
    "strong_subs = nx.strongly_connected_component_subgraphs(G)\n",
    "    \n",
    "G_sc = max(strong_subs, key=len)"
   ]
  },
  {
   "cell_type": "markdown",
   "metadata": {},
   "source": [
    "What is the average distance between nodes in `G_sc`?"
   ]
  },
  {
   "cell_type": "code",
   "execution_count": 9,
   "metadata": {},
   "outputs": [
    {
     "data": {
      "text/plain": [
       "1.6461587301587302"
      ]
     },
     "execution_count": 9,
     "metadata": {},
     "output_type": "execute_result"
    }
   ],
   "source": [
    "nx.average_shortest_path_length(G_sc)"
   ]
  },
  {
   "cell_type": "markdown",
   "metadata": {},
   "source": [
    "What is the largest possible distance between two employees in `G_sc`?"
   ]
  },
  {
   "cell_type": "code",
   "execution_count": 10,
   "metadata": {},
   "outputs": [
    {
     "data": {
      "text/plain": [
       "3"
      ]
     },
     "execution_count": 10,
     "metadata": {},
     "output_type": "execute_result"
    }
   ],
   "source": [
    "nx.diameter(G_sc)"
   ]
  },
  {
   "cell_type": "markdown",
   "metadata": {},
   "source": [
    "What is the set of nodes in `G_sc` with <b>eccentricity</b> equal to the <b>diameter</b>?\n",
    "\n",
    "- <b>Eccentricity :</b> for one node, max distance to other nodes\n",
    "- <b>Diameter :</b> max eccentricity"
   ]
  },
  {
   "cell_type": "code",
   "execution_count": 11,
   "metadata": {},
   "outputs": [
    {
     "data": {
      "text/plain": [
       "{'129', '134', '97'}"
      ]
     },
     "execution_count": 11,
     "metadata": {},
     "output_type": "execute_result"
    }
   ],
   "source": [
    "set(nx.periphery(G_sc))"
   ]
  },
  {
   "cell_type": "markdown",
   "metadata": {},
   "source": [
    "What is the set of node(s) in `G_sc` with <b>eccentricity</b> equal to the <b>radius</b>?\n",
    "\n",
    "- radius : min eccentricity"
   ]
  },
  {
   "cell_type": "code",
   "execution_count": 12,
   "metadata": {},
   "outputs": [
    {
     "data": {
      "text/plain": [
       "{'38'}"
      ]
     },
     "execution_count": 12,
     "metadata": {},
     "output_type": "execute_result"
    }
   ],
   "source": [
    "set(nx.center(G_sc))"
   ]
  },
  {
   "cell_type": "markdown",
   "metadata": {},
   "source": [
    "Which node in `G_sc` is connected to the most other nodes by a shortest path of length equal to the diameter of `G_sc`?\n",
    "\n",
    "How many nodes are connected to this node?"
   ]
  },
  {
   "cell_type": "code",
   "execution_count": 13,
   "metadata": {},
   "outputs": [
    {
     "data": {
      "text/plain": [
       "('97', 63)"
      ]
     },
     "execution_count": 13,
     "metadata": {},
     "output_type": "execute_result"
    }
   ],
   "source": [
    "d = nx.diameter(G_sc)\n",
    "p = nx.periphery(G_sc)\n",
    "max_count = -1\n",
    "\n",
    "result_node = None\n",
    "\n",
    "for node in p:\n",
    "    count = 0\n",
    "    sp = nx.shortest_path_length(G_sc, node)\n",
    "    \n",
    "    for key, value in sp.items():\n",
    "        if value == d:\n",
    "            count += 1\n",
    "    \n",
    "    if count > max_count:\n",
    "        result_node = node\n",
    "        max_count = count\n",
    "\n",
    "result_node, max_count"
   ]
  },
  {
   "cell_type": "markdown",
   "metadata": {},
   "source": [
    "<b>Suppose you want to prevent communication from flowing to the node that you found in the previous question from any node in the center of `G_sc`.</b> \n",
    "\n",
    "What is the smallest number of nodes you would need to remove from the graph (you're not allowed to remove the node from the previous question or the center nodes)? "
   ]
  },
  {
   "cell_type": "code",
   "execution_count": 14,
   "metadata": {},
   "outputs": [
    {
     "data": {
      "text/plain": [
       "5"
      ]
     },
     "execution_count": 14,
     "metadata": {},
     "output_type": "execute_result"
    }
   ],
   "source": [
    "center = nx.center(G_sc)[0]\n",
    "\n",
    "int(nx.node_connectivity(G_sc, center, result_node)-1)"
   ]
  },
  {
   "cell_type": "markdown",
   "metadata": {},
   "source": [
    "Construct an undirected graph `G_un` using `G_sc`."
   ]
  },
  {
   "cell_type": "code",
   "execution_count": 15,
   "metadata": {},
   "outputs": [],
   "source": [
    "undir_subgraph = G_sc.to_undirected()\n",
    "G_un = nx.Graph(undir_subgraph)"
   ]
  },
  {
   "cell_type": "markdown",
   "metadata": {},
   "source": [
    "What is the <b>transitivity</b> and <b>average clustering coefficient</b> of graph `G_un` ?\n",
    "\n",
    "- <b>Transitivity :</b> transitivity is the overall probability for the network to have adjacent nodes interconnected, thus revealing the existence of tightly connected communities.\n",
    "- <b>Average Clustering Coefficient :</b> clustering coefficient of a node in a graph quantifies how close its neighbours are to being a complete graph."
   ]
  },
  {
   "cell_type": "code",
   "execution_count": 16,
   "metadata": {},
   "outputs": [
    {
     "data": {
      "text/plain": [
       "(0.570111160700385, 0.697527243723142)"
      ]
     },
     "execution_count": 16,
     "metadata": {},
     "output_type": "execute_result"
    }
   ],
   "source": [
    "nx.transitivity(G_un), nx.average_clustering(G_un)"
   ]
  },
  {
   "cell_type": "markdown",
   "metadata": {},
   "source": [
    "## Conclusion\n",
    "\n",
    "We have <b>82927 emails</b> between <b>167 employees</b>. <br>\n",
    "\n",
    "This network is *weakly connected* : there is a path between each pair of employees, but is path can be unidirectionnal, so some employee can't reach every employee<br>\n",
    "\n",
    "But we found a subset of 126 *strongly connected employees*, with <b>average distance = 1.64</b> and <b>largest distance = 3</b>. \n",
    "\n",
    "If we want to prevent communication from flowing to a peripheral node from any node in the center, we have to remove 5 nodes. So this network is <b>robust</b>, it can maintain properties even under attacks."
   ]
  },
  {
   "cell_type": "code",
   "execution_count": 17,
   "metadata": {},
   "outputs": [
    {
     "data": {
      "application/javascript": [
       "/* Put everything inside the global mpl namespace */\n",
       "window.mpl = {};\n",
       "\n",
       "\n",
       "mpl.get_websocket_type = function() {\n",
       "    if (typeof(WebSocket) !== 'undefined') {\n",
       "        return WebSocket;\n",
       "    } else if (typeof(MozWebSocket) !== 'undefined') {\n",
       "        return MozWebSocket;\n",
       "    } else {\n",
       "        alert('Your browser does not have WebSocket support.' +\n",
       "              'Please try Chrome, Safari or Firefox ≥ 6. ' +\n",
       "              'Firefox 4 and 5 are also supported but you ' +\n",
       "              'have to enable WebSockets in about:config.');\n",
       "    };\n",
       "}\n",
       "\n",
       "mpl.figure = function(figure_id, websocket, ondownload, parent_element) {\n",
       "    this.id = figure_id;\n",
       "\n",
       "    this.ws = websocket;\n",
       "\n",
       "    this.supports_binary = (this.ws.binaryType != undefined);\n",
       "\n",
       "    if (!this.supports_binary) {\n",
       "        var warnings = document.getElementById(\"mpl-warnings\");\n",
       "        if (warnings) {\n",
       "            warnings.style.display = 'block';\n",
       "            warnings.textContent = (\n",
       "                \"This browser does not support binary websocket messages. \" +\n",
       "                    \"Performance may be slow.\");\n",
       "        }\n",
       "    }\n",
       "\n",
       "    this.imageObj = new Image();\n",
       "\n",
       "    this.context = undefined;\n",
       "    this.message = undefined;\n",
       "    this.canvas = undefined;\n",
       "    this.rubberband_canvas = undefined;\n",
       "    this.rubberband_context = undefined;\n",
       "    this.format_dropdown = undefined;\n",
       "\n",
       "    this.image_mode = 'full';\n",
       "\n",
       "    this.root = $('<div/>');\n",
       "    this._root_extra_style(this.root)\n",
       "    this.root.attr('style', 'display: inline-block');\n",
       "\n",
       "    $(parent_element).append(this.root);\n",
       "\n",
       "    this._init_header(this);\n",
       "    this._init_canvas(this);\n",
       "    this._init_toolbar(this);\n",
       "\n",
       "    var fig = this;\n",
       "\n",
       "    this.waiting = false;\n",
       "\n",
       "    this.ws.onopen =  function () {\n",
       "            fig.send_message(\"supports_binary\", {value: fig.supports_binary});\n",
       "            fig.send_message(\"send_image_mode\", {});\n",
       "            if (mpl.ratio != 1) {\n",
       "                fig.send_message(\"set_dpi_ratio\", {'dpi_ratio': mpl.ratio});\n",
       "            }\n",
       "            fig.send_message(\"refresh\", {});\n",
       "        }\n",
       "\n",
       "    this.imageObj.onload = function() {\n",
       "            if (fig.image_mode == 'full') {\n",
       "                // Full images could contain transparency (where diff images\n",
       "                // almost always do), so we need to clear the canvas so that\n",
       "                // there is no ghosting.\n",
       "                fig.context.clearRect(0, 0, fig.canvas.width, fig.canvas.height);\n",
       "            }\n",
       "            fig.context.drawImage(fig.imageObj, 0, 0);\n",
       "        };\n",
       "\n",
       "    this.imageObj.onunload = function() {\n",
       "        fig.ws.close();\n",
       "    }\n",
       "\n",
       "    this.ws.onmessage = this._make_on_message_function(this);\n",
       "\n",
       "    this.ondownload = ondownload;\n",
       "}\n",
       "\n",
       "mpl.figure.prototype._init_header = function() {\n",
       "    var titlebar = $(\n",
       "        '<div class=\"ui-dialog-titlebar ui-widget-header ui-corner-all ' +\n",
       "        'ui-helper-clearfix\"/>');\n",
       "    var titletext = $(\n",
       "        '<div class=\"ui-dialog-title\" style=\"width: 100%; ' +\n",
       "        'text-align: center; padding: 3px;\"/>');\n",
       "    titlebar.append(titletext)\n",
       "    this.root.append(titlebar);\n",
       "    this.header = titletext[0];\n",
       "}\n",
       "\n",
       "\n",
       "\n",
       "mpl.figure.prototype._canvas_extra_style = function(canvas_div) {\n",
       "\n",
       "}\n",
       "\n",
       "\n",
       "mpl.figure.prototype._root_extra_style = function(canvas_div) {\n",
       "\n",
       "}\n",
       "\n",
       "mpl.figure.prototype._init_canvas = function() {\n",
       "    var fig = this;\n",
       "\n",
       "    var canvas_div = $('<div/>');\n",
       "\n",
       "    canvas_div.attr('style', 'position: relative; clear: both; outline: 0');\n",
       "\n",
       "    function canvas_keyboard_event(event) {\n",
       "        return fig.key_event(event, event['data']);\n",
       "    }\n",
       "\n",
       "    canvas_div.keydown('key_press', canvas_keyboard_event);\n",
       "    canvas_div.keyup('key_release', canvas_keyboard_event);\n",
       "    this.canvas_div = canvas_div\n",
       "    this._canvas_extra_style(canvas_div)\n",
       "    this.root.append(canvas_div);\n",
       "\n",
       "    var canvas = $('<canvas/>');\n",
       "    canvas.addClass('mpl-canvas');\n",
       "    canvas.attr('style', \"left: 0; top: 0; z-index: 0; outline: 0\")\n",
       "\n",
       "    this.canvas = canvas[0];\n",
       "    this.context = canvas[0].getContext(\"2d\");\n",
       "\n",
       "    var backingStore = this.context.backingStorePixelRatio ||\n",
       "\tthis.context.webkitBackingStorePixelRatio ||\n",
       "\tthis.context.mozBackingStorePixelRatio ||\n",
       "\tthis.context.msBackingStorePixelRatio ||\n",
       "\tthis.context.oBackingStorePixelRatio ||\n",
       "\tthis.context.backingStorePixelRatio || 1;\n",
       "\n",
       "    mpl.ratio = (window.devicePixelRatio || 1) / backingStore;\n",
       "\n",
       "    var rubberband = $('<canvas/>');\n",
       "    rubberband.attr('style', \"position: absolute; left: 0; top: 0; z-index: 1;\")\n",
       "\n",
       "    var pass_mouse_events = true;\n",
       "\n",
       "    canvas_div.resizable({\n",
       "        start: function(event, ui) {\n",
       "            pass_mouse_events = false;\n",
       "        },\n",
       "        resize: function(event, ui) {\n",
       "            fig.request_resize(ui.size.width, ui.size.height);\n",
       "        },\n",
       "        stop: function(event, ui) {\n",
       "            pass_mouse_events = true;\n",
       "            fig.request_resize(ui.size.width, ui.size.height);\n",
       "        },\n",
       "    });\n",
       "\n",
       "    function mouse_event_fn(event) {\n",
       "        if (pass_mouse_events)\n",
       "            return fig.mouse_event(event, event['data']);\n",
       "    }\n",
       "\n",
       "    rubberband.mousedown('button_press', mouse_event_fn);\n",
       "    rubberband.mouseup('button_release', mouse_event_fn);\n",
       "    // Throttle sequential mouse events to 1 every 20ms.\n",
       "    rubberband.mousemove('motion_notify', mouse_event_fn);\n",
       "\n",
       "    rubberband.mouseenter('figure_enter', mouse_event_fn);\n",
       "    rubberband.mouseleave('figure_leave', mouse_event_fn);\n",
       "\n",
       "    canvas_div.on(\"wheel\", function (event) {\n",
       "        event = event.originalEvent;\n",
       "        event['data'] = 'scroll'\n",
       "        if (event.deltaY < 0) {\n",
       "            event.step = 1;\n",
       "        } else {\n",
       "            event.step = -1;\n",
       "        }\n",
       "        mouse_event_fn(event);\n",
       "    });\n",
       "\n",
       "    canvas_div.append(canvas);\n",
       "    canvas_div.append(rubberband);\n",
       "\n",
       "    this.rubberband = rubberband;\n",
       "    this.rubberband_canvas = rubberband[0];\n",
       "    this.rubberband_context = rubberband[0].getContext(\"2d\");\n",
       "    this.rubberband_context.strokeStyle = \"#000000\";\n",
       "\n",
       "    this._resize_canvas = function(width, height) {\n",
       "        // Keep the size of the canvas, canvas container, and rubber band\n",
       "        // canvas in synch.\n",
       "        canvas_div.css('width', width)\n",
       "        canvas_div.css('height', height)\n",
       "\n",
       "        canvas.attr('width', width * mpl.ratio);\n",
       "        canvas.attr('height', height * mpl.ratio);\n",
       "        canvas.attr('style', 'width: ' + width + 'px; height: ' + height + 'px;');\n",
       "\n",
       "        rubberband.attr('width', width);\n",
       "        rubberband.attr('height', height);\n",
       "    }\n",
       "\n",
       "    // Set the figure to an initial 600x600px, this will subsequently be updated\n",
       "    // upon first draw.\n",
       "    this._resize_canvas(600, 600);\n",
       "\n",
       "    // Disable right mouse context menu.\n",
       "    $(this.rubberband_canvas).bind(\"contextmenu\",function(e){\n",
       "        return false;\n",
       "    });\n",
       "\n",
       "    function set_focus () {\n",
       "        canvas.focus();\n",
       "        canvas_div.focus();\n",
       "    }\n",
       "\n",
       "    window.setTimeout(set_focus, 100);\n",
       "}\n",
       "\n",
       "mpl.figure.prototype._init_toolbar = function() {\n",
       "    var fig = this;\n",
       "\n",
       "    var nav_element = $('<div/>')\n",
       "    nav_element.attr('style', 'width: 100%');\n",
       "    this.root.append(nav_element);\n",
       "\n",
       "    // Define a callback function for later on.\n",
       "    function toolbar_event(event) {\n",
       "        return fig.toolbar_button_onclick(event['data']);\n",
       "    }\n",
       "    function toolbar_mouse_event(event) {\n",
       "        return fig.toolbar_button_onmouseover(event['data']);\n",
       "    }\n",
       "\n",
       "    for(var toolbar_ind in mpl.toolbar_items) {\n",
       "        var name = mpl.toolbar_items[toolbar_ind][0];\n",
       "        var tooltip = mpl.toolbar_items[toolbar_ind][1];\n",
       "        var image = mpl.toolbar_items[toolbar_ind][2];\n",
       "        var method_name = mpl.toolbar_items[toolbar_ind][3];\n",
       "\n",
       "        if (!name) {\n",
       "            // put a spacer in here.\n",
       "            continue;\n",
       "        }\n",
       "        var button = $('<button/>');\n",
       "        button.addClass('ui-button ui-widget ui-state-default ui-corner-all ' +\n",
       "                        'ui-button-icon-only');\n",
       "        button.attr('role', 'button');\n",
       "        button.attr('aria-disabled', 'false');\n",
       "        button.click(method_name, toolbar_event);\n",
       "        button.mouseover(tooltip, toolbar_mouse_event);\n",
       "\n",
       "        var icon_img = $('<span/>');\n",
       "        icon_img.addClass('ui-button-icon-primary ui-icon');\n",
       "        icon_img.addClass(image);\n",
       "        icon_img.addClass('ui-corner-all');\n",
       "\n",
       "        var tooltip_span = $('<span/>');\n",
       "        tooltip_span.addClass('ui-button-text');\n",
       "        tooltip_span.html(tooltip);\n",
       "\n",
       "        button.append(icon_img);\n",
       "        button.append(tooltip_span);\n",
       "\n",
       "        nav_element.append(button);\n",
       "    }\n",
       "\n",
       "    var fmt_picker_span = $('<span/>');\n",
       "\n",
       "    var fmt_picker = $('<select/>');\n",
       "    fmt_picker.addClass('mpl-toolbar-option ui-widget ui-widget-content');\n",
       "    fmt_picker_span.append(fmt_picker);\n",
       "    nav_element.append(fmt_picker_span);\n",
       "    this.format_dropdown = fmt_picker[0];\n",
       "\n",
       "    for (var ind in mpl.extensions) {\n",
       "        var fmt = mpl.extensions[ind];\n",
       "        var option = $(\n",
       "            '<option/>', {selected: fmt === mpl.default_extension}).html(fmt);\n",
       "        fmt_picker.append(option)\n",
       "    }\n",
       "\n",
       "    // Add hover states to the ui-buttons\n",
       "    $( \".ui-button\" ).hover(\n",
       "        function() { $(this).addClass(\"ui-state-hover\");},\n",
       "        function() { $(this).removeClass(\"ui-state-hover\");}\n",
       "    );\n",
       "\n",
       "    var status_bar = $('<span class=\"mpl-message\"/>');\n",
       "    nav_element.append(status_bar);\n",
       "    this.message = status_bar[0];\n",
       "}\n",
       "\n",
       "mpl.figure.prototype.request_resize = function(x_pixels, y_pixels) {\n",
       "    // Request matplotlib to resize the figure. Matplotlib will then trigger a resize in the client,\n",
       "    // which will in turn request a refresh of the image.\n",
       "    this.send_message('resize', {'width': x_pixels, 'height': y_pixels});\n",
       "}\n",
       "\n",
       "mpl.figure.prototype.send_message = function(type, properties) {\n",
       "    properties['type'] = type;\n",
       "    properties['figure_id'] = this.id;\n",
       "    this.ws.send(JSON.stringify(properties));\n",
       "}\n",
       "\n",
       "mpl.figure.prototype.send_draw_message = function() {\n",
       "    if (!this.waiting) {\n",
       "        this.waiting = true;\n",
       "        this.ws.send(JSON.stringify({type: \"draw\", figure_id: this.id}));\n",
       "    }\n",
       "}\n",
       "\n",
       "\n",
       "mpl.figure.prototype.handle_save = function(fig, msg) {\n",
       "    var format_dropdown = fig.format_dropdown;\n",
       "    var format = format_dropdown.options[format_dropdown.selectedIndex].value;\n",
       "    fig.ondownload(fig, format);\n",
       "}\n",
       "\n",
       "\n",
       "mpl.figure.prototype.handle_resize = function(fig, msg) {\n",
       "    var size = msg['size'];\n",
       "    if (size[0] != fig.canvas.width || size[1] != fig.canvas.height) {\n",
       "        fig._resize_canvas(size[0], size[1]);\n",
       "        fig.send_message(\"refresh\", {});\n",
       "    };\n",
       "}\n",
       "\n",
       "mpl.figure.prototype.handle_rubberband = function(fig, msg) {\n",
       "    var x0 = msg['x0'] / mpl.ratio;\n",
       "    var y0 = (fig.canvas.height - msg['y0']) / mpl.ratio;\n",
       "    var x1 = msg['x1'] / mpl.ratio;\n",
       "    var y1 = (fig.canvas.height - msg['y1']) / mpl.ratio;\n",
       "    x0 = Math.floor(x0) + 0.5;\n",
       "    y0 = Math.floor(y0) + 0.5;\n",
       "    x1 = Math.floor(x1) + 0.5;\n",
       "    y1 = Math.floor(y1) + 0.5;\n",
       "    var min_x = Math.min(x0, x1);\n",
       "    var min_y = Math.min(y0, y1);\n",
       "    var width = Math.abs(x1 - x0);\n",
       "    var height = Math.abs(y1 - y0);\n",
       "\n",
       "    fig.rubberband_context.clearRect(\n",
       "        0, 0, fig.canvas.width, fig.canvas.height);\n",
       "\n",
       "    fig.rubberband_context.strokeRect(min_x, min_y, width, height);\n",
       "}\n",
       "\n",
       "mpl.figure.prototype.handle_figure_label = function(fig, msg) {\n",
       "    // Updates the figure title.\n",
       "    fig.header.textContent = msg['label'];\n",
       "}\n",
       "\n",
       "mpl.figure.prototype.handle_cursor = function(fig, msg) {\n",
       "    var cursor = msg['cursor'];\n",
       "    switch(cursor)\n",
       "    {\n",
       "    case 0:\n",
       "        cursor = 'pointer';\n",
       "        break;\n",
       "    case 1:\n",
       "        cursor = 'default';\n",
       "        break;\n",
       "    case 2:\n",
       "        cursor = 'crosshair';\n",
       "        break;\n",
       "    case 3:\n",
       "        cursor = 'move';\n",
       "        break;\n",
       "    }\n",
       "    fig.rubberband_canvas.style.cursor = cursor;\n",
       "}\n",
       "\n",
       "mpl.figure.prototype.handle_message = function(fig, msg) {\n",
       "    fig.message.textContent = msg['message'];\n",
       "}\n",
       "\n",
       "mpl.figure.prototype.handle_draw = function(fig, msg) {\n",
       "    // Request the server to send over a new figure.\n",
       "    fig.send_draw_message();\n",
       "}\n",
       "\n",
       "mpl.figure.prototype.handle_image_mode = function(fig, msg) {\n",
       "    fig.image_mode = msg['mode'];\n",
       "}\n",
       "\n",
       "mpl.figure.prototype.updated_canvas_event = function() {\n",
       "    // Called whenever the canvas gets updated.\n",
       "    this.send_message(\"ack\", {});\n",
       "}\n",
       "\n",
       "// A function to construct a web socket function for onmessage handling.\n",
       "// Called in the figure constructor.\n",
       "mpl.figure.prototype._make_on_message_function = function(fig) {\n",
       "    return function socket_on_message(evt) {\n",
       "        if (evt.data instanceof Blob) {\n",
       "            /* FIXME: We get \"Resource interpreted as Image but\n",
       "             * transferred with MIME type text/plain:\" errors on\n",
       "             * Chrome.  But how to set the MIME type?  It doesn't seem\n",
       "             * to be part of the websocket stream */\n",
       "            evt.data.type = \"image/png\";\n",
       "\n",
       "            /* Free the memory for the previous frames */\n",
       "            if (fig.imageObj.src) {\n",
       "                (window.URL || window.webkitURL).revokeObjectURL(\n",
       "                    fig.imageObj.src);\n",
       "            }\n",
       "\n",
       "            fig.imageObj.src = (window.URL || window.webkitURL).createObjectURL(\n",
       "                evt.data);\n",
       "            fig.updated_canvas_event();\n",
       "            fig.waiting = false;\n",
       "            return;\n",
       "        }\n",
       "        else if (typeof evt.data === 'string' && evt.data.slice(0, 21) == \"data:image/png;base64\") {\n",
       "            fig.imageObj.src = evt.data;\n",
       "            fig.updated_canvas_event();\n",
       "            fig.waiting = false;\n",
       "            return;\n",
       "        }\n",
       "\n",
       "        var msg = JSON.parse(evt.data);\n",
       "        var msg_type = msg['type'];\n",
       "\n",
       "        // Call the  \"handle_{type}\" callback, which takes\n",
       "        // the figure and JSON message as its only arguments.\n",
       "        try {\n",
       "            var callback = fig[\"handle_\" + msg_type];\n",
       "        } catch (e) {\n",
       "            console.log(\"No handler for the '\" + msg_type + \"' message type: \", msg);\n",
       "            return;\n",
       "        }\n",
       "\n",
       "        if (callback) {\n",
       "            try {\n",
       "                // console.log(\"Handling '\" + msg_type + \"' message: \", msg);\n",
       "                callback(fig, msg);\n",
       "            } catch (e) {\n",
       "                console.log(\"Exception inside the 'handler_\" + msg_type + \"' callback:\", e, e.stack, msg);\n",
       "            }\n",
       "        }\n",
       "    };\n",
       "}\n",
       "\n",
       "// from http://stackoverflow.com/questions/1114465/getting-mouse-location-in-canvas\n",
       "mpl.findpos = function(e) {\n",
       "    //this section is from http://www.quirksmode.org/js/events_properties.html\n",
       "    var targ;\n",
       "    if (!e)\n",
       "        e = window.event;\n",
       "    if (e.target)\n",
       "        targ = e.target;\n",
       "    else if (e.srcElement)\n",
       "        targ = e.srcElement;\n",
       "    if (targ.nodeType == 3) // defeat Safari bug\n",
       "        targ = targ.parentNode;\n",
       "\n",
       "    // jQuery normalizes the pageX and pageY\n",
       "    // pageX,Y are the mouse positions relative to the document\n",
       "    // offset() returns the position of the element relative to the document\n",
       "    var x = e.pageX - $(targ).offset().left;\n",
       "    var y = e.pageY - $(targ).offset().top;\n",
       "\n",
       "    return {\"x\": x, \"y\": y};\n",
       "};\n",
       "\n",
       "/*\n",
       " * return a copy of an object with only non-object keys\n",
       " * we need this to avoid circular references\n",
       " * http://stackoverflow.com/a/24161582/3208463\n",
       " */\n",
       "function simpleKeys (original) {\n",
       "  return Object.keys(original).reduce(function (obj, key) {\n",
       "    if (typeof original[key] !== 'object')\n",
       "        obj[key] = original[key]\n",
       "    return obj;\n",
       "  }, {});\n",
       "}\n",
       "\n",
       "mpl.figure.prototype.mouse_event = function(event, name) {\n",
       "    var canvas_pos = mpl.findpos(event)\n",
       "\n",
       "    if (name === 'button_press')\n",
       "    {\n",
       "        this.canvas.focus();\n",
       "        this.canvas_div.focus();\n",
       "    }\n",
       "\n",
       "    var x = canvas_pos.x * mpl.ratio;\n",
       "    var y = canvas_pos.y * mpl.ratio;\n",
       "\n",
       "    this.send_message(name, {x: x, y: y, button: event.button,\n",
       "                             step: event.step,\n",
       "                             guiEvent: simpleKeys(event)});\n",
       "\n",
       "    /* This prevents the web browser from automatically changing to\n",
       "     * the text insertion cursor when the button is pressed.  We want\n",
       "     * to control all of the cursor setting manually through the\n",
       "     * 'cursor' event from matplotlib */\n",
       "    event.preventDefault();\n",
       "    return false;\n",
       "}\n",
       "\n",
       "mpl.figure.prototype._key_event_extra = function(event, name) {\n",
       "    // Handle any extra behaviour associated with a key event\n",
       "}\n",
       "\n",
       "mpl.figure.prototype.key_event = function(event, name) {\n",
       "\n",
       "    // Prevent repeat events\n",
       "    if (name == 'key_press')\n",
       "    {\n",
       "        if (event.which === this._key)\n",
       "            return;\n",
       "        else\n",
       "            this._key = event.which;\n",
       "    }\n",
       "    if (name == 'key_release')\n",
       "        this._key = null;\n",
       "\n",
       "    var value = '';\n",
       "    if (event.ctrlKey && event.which != 17)\n",
       "        value += \"ctrl+\";\n",
       "    if (event.altKey && event.which != 18)\n",
       "        value += \"alt+\";\n",
       "    if (event.shiftKey && event.which != 16)\n",
       "        value += \"shift+\";\n",
       "\n",
       "    value += 'k';\n",
       "    value += event.which.toString();\n",
       "\n",
       "    this._key_event_extra(event, name);\n",
       "\n",
       "    this.send_message(name, {key: value,\n",
       "                             guiEvent: simpleKeys(event)});\n",
       "    return false;\n",
       "}\n",
       "\n",
       "mpl.figure.prototype.toolbar_button_onclick = function(name) {\n",
       "    if (name == 'download') {\n",
       "        this.handle_save(this, null);\n",
       "    } else {\n",
       "        this.send_message(\"toolbar_button\", {name: name});\n",
       "    }\n",
       "};\n",
       "\n",
       "mpl.figure.prototype.toolbar_button_onmouseover = function(tooltip) {\n",
       "    this.message.textContent = tooltip;\n",
       "};\n",
       "mpl.toolbar_items = [[\"Home\", \"Reset original view\", \"fa fa-home icon-home\", \"home\"], [\"Back\", \"Back to previous view\", \"fa fa-arrow-left icon-arrow-left\", \"back\"], [\"Forward\", \"Forward to next view\", \"fa fa-arrow-right icon-arrow-right\", \"forward\"], [\"\", \"\", \"\", \"\"], [\"Pan\", \"Pan axes with left mouse, zoom with right\", \"fa fa-arrows icon-move\", \"pan\"], [\"Zoom\", \"Zoom to rectangle\", \"fa fa-square-o icon-check-empty\", \"zoom\"], [\"\", \"\", \"\", \"\"], [\"Download\", \"Download plot\", \"fa fa-floppy-o icon-save\", \"download\"]];\n",
       "\n",
       "mpl.extensions = [\"eps\", \"jpeg\", \"pdf\", \"png\", \"ps\", \"raw\", \"svg\", \"tif\"];\n",
       "\n",
       "mpl.default_extension = \"png\";var comm_websocket_adapter = function(comm) {\n",
       "    // Create a \"websocket\"-like object which calls the given IPython comm\n",
       "    // object with the appropriate methods. Currently this is a non binary\n",
       "    // socket, so there is still some room for performance tuning.\n",
       "    var ws = {};\n",
       "\n",
       "    ws.close = function() {\n",
       "        comm.close()\n",
       "    };\n",
       "    ws.send = function(m) {\n",
       "        //console.log('sending', m);\n",
       "        comm.send(m);\n",
       "    };\n",
       "    // Register the callback with on_msg.\n",
       "    comm.on_msg(function(msg) {\n",
       "        //console.log('receiving', msg['content']['data'], msg);\n",
       "        // Pass the mpl event to the overridden (by mpl) onmessage function.\n",
       "        ws.onmessage(msg['content']['data'])\n",
       "    });\n",
       "    return ws;\n",
       "}\n",
       "\n",
       "mpl.mpl_figure_comm = function(comm, msg) {\n",
       "    // This is the function which gets called when the mpl process\n",
       "    // starts-up an IPython Comm through the \"matplotlib\" channel.\n",
       "\n",
       "    var id = msg.content.data.id;\n",
       "    // Get hold of the div created by the display call when the Comm\n",
       "    // socket was opened in Python.\n",
       "    var element = $(\"#\" + id);\n",
       "    var ws_proxy = comm_websocket_adapter(comm)\n",
       "\n",
       "    function ondownload(figure, format) {\n",
       "        window.open(figure.imageObj.src);\n",
       "    }\n",
       "\n",
       "    var fig = new mpl.figure(id, ws_proxy,\n",
       "                           ondownload,\n",
       "                           element.get(0));\n",
       "\n",
       "    // Call onopen now - mpl needs it, as it is assuming we've passed it a real\n",
       "    // web socket which is closed, not our websocket->open comm proxy.\n",
       "    ws_proxy.onopen();\n",
       "\n",
       "    fig.parent_element = element.get(0);\n",
       "    fig.cell_info = mpl.find_output_cell(\"<div id='\" + id + \"'></div>\");\n",
       "    if (!fig.cell_info) {\n",
       "        console.error(\"Failed to find cell for figure\", id, fig);\n",
       "        return;\n",
       "    }\n",
       "\n",
       "    var output_index = fig.cell_info[2]\n",
       "    var cell = fig.cell_info[0];\n",
       "\n",
       "};\n",
       "\n",
       "mpl.figure.prototype.handle_close = function(fig, msg) {\n",
       "    var width = fig.canvas.width/mpl.ratio\n",
       "    fig.root.unbind('remove')\n",
       "\n",
       "    // Update the output cell to use the data from the current canvas.\n",
       "    fig.push_to_output();\n",
       "    var dataURL = fig.canvas.toDataURL();\n",
       "    // Re-enable the keyboard manager in IPython - without this line, in FF,\n",
       "    // the notebook keyboard shortcuts fail.\n",
       "    IPython.keyboard_manager.enable()\n",
       "    $(fig.parent_element).html('<img src=\"' + dataURL + '\" width=\"' + width + '\">');\n",
       "    fig.close_ws(fig, msg);\n",
       "}\n",
       "\n",
       "mpl.figure.prototype.close_ws = function(fig, msg){\n",
       "    fig.send_message('closing', msg);\n",
       "    // fig.ws.close()\n",
       "}\n",
       "\n",
       "mpl.figure.prototype.push_to_output = function(remove_interactive) {\n",
       "    // Turn the data on the canvas into data in the output cell.\n",
       "    var width = this.canvas.width/mpl.ratio\n",
       "    var dataURL = this.canvas.toDataURL();\n",
       "    this.cell_info[1]['text/html'] = '<img src=\"' + dataURL + '\" width=\"' + width + '\">';\n",
       "}\n",
       "\n",
       "mpl.figure.prototype.updated_canvas_event = function() {\n",
       "    // Tell IPython that the notebook contents must change.\n",
       "    IPython.notebook.set_dirty(true);\n",
       "    this.send_message(\"ack\", {});\n",
       "    var fig = this;\n",
       "    // Wait a second, then push the new image to the DOM so\n",
       "    // that it is saved nicely (might be nice to debounce this).\n",
       "    setTimeout(function () { fig.push_to_output() }, 1000);\n",
       "}\n",
       "\n",
       "mpl.figure.prototype._init_toolbar = function() {\n",
       "    var fig = this;\n",
       "\n",
       "    var nav_element = $('<div/>')\n",
       "    nav_element.attr('style', 'width: 100%');\n",
       "    this.root.append(nav_element);\n",
       "\n",
       "    // Define a callback function for later on.\n",
       "    function toolbar_event(event) {\n",
       "        return fig.toolbar_button_onclick(event['data']);\n",
       "    }\n",
       "    function toolbar_mouse_event(event) {\n",
       "        return fig.toolbar_button_onmouseover(event['data']);\n",
       "    }\n",
       "\n",
       "    for(var toolbar_ind in mpl.toolbar_items){\n",
       "        var name = mpl.toolbar_items[toolbar_ind][0];\n",
       "        var tooltip = mpl.toolbar_items[toolbar_ind][1];\n",
       "        var image = mpl.toolbar_items[toolbar_ind][2];\n",
       "        var method_name = mpl.toolbar_items[toolbar_ind][3];\n",
       "\n",
       "        if (!name) { continue; };\n",
       "\n",
       "        var button = $('<button class=\"btn btn-default\" href=\"#\" title=\"' + name + '\"><i class=\"fa ' + image + ' fa-lg\"></i></button>');\n",
       "        button.click(method_name, toolbar_event);\n",
       "        button.mouseover(tooltip, toolbar_mouse_event);\n",
       "        nav_element.append(button);\n",
       "    }\n",
       "\n",
       "    // Add the status bar.\n",
       "    var status_bar = $('<span class=\"mpl-message\" style=\"text-align:right; float: right;\"/>');\n",
       "    nav_element.append(status_bar);\n",
       "    this.message = status_bar[0];\n",
       "\n",
       "    // Add the close button to the window.\n",
       "    var buttongrp = $('<div class=\"btn-group inline pull-right\"></div>');\n",
       "    var button = $('<button class=\"btn btn-mini btn-primary\" href=\"#\" title=\"Stop Interaction\"><i class=\"fa fa-power-off icon-remove icon-large\"></i></button>');\n",
       "    button.click(function (evt) { fig.handle_close(fig, {}); } );\n",
       "    button.mouseover('Stop Interaction', toolbar_mouse_event);\n",
       "    buttongrp.append(button);\n",
       "    var titlebar = this.root.find($('.ui-dialog-titlebar'));\n",
       "    titlebar.prepend(buttongrp);\n",
       "}\n",
       "\n",
       "mpl.figure.prototype._root_extra_style = function(el){\n",
       "    var fig = this\n",
       "    el.on(\"remove\", function(){\n",
       "\tfig.close_ws(fig, {});\n",
       "    });\n",
       "}\n",
       "\n",
       "mpl.figure.prototype._canvas_extra_style = function(el){\n",
       "    // this is important to make the div 'focusable\n",
       "    el.attr('tabindex', 0)\n",
       "    // reach out to IPython and tell the keyboard manager to turn it's self\n",
       "    // off when our div gets focus\n",
       "\n",
       "    // location in version 3\n",
       "    if (IPython.notebook.keyboard_manager) {\n",
       "        IPython.notebook.keyboard_manager.register_events(el);\n",
       "    }\n",
       "    else {\n",
       "        // location in version 2\n",
       "        IPython.keyboard_manager.register_events(el);\n",
       "    }\n",
       "\n",
       "}\n",
       "\n",
       "mpl.figure.prototype._key_event_extra = function(event, name) {\n",
       "    var manager = IPython.notebook.keyboard_manager;\n",
       "    if (!manager)\n",
       "        manager = IPython.keyboard_manager;\n",
       "\n",
       "    // Check for shift+enter\n",
       "    if (event.shiftKey && event.which == 13) {\n",
       "        this.canvas_div.blur();\n",
       "        event.shiftKey = false;\n",
       "        // Send a \"J\" for go to next cell\n",
       "        event.which = 74;\n",
       "        event.keyCode = 74;\n",
       "        manager.command_mode();\n",
       "        manager.handle_keydown(event);\n",
       "    }\n",
       "}\n",
       "\n",
       "mpl.figure.prototype.handle_save = function(fig, msg) {\n",
       "    fig.ondownload(fig, null);\n",
       "}\n",
       "\n",
       "\n",
       "mpl.find_output_cell = function(html_output) {\n",
       "    // Return the cell and output element which can be found *uniquely* in the notebook.\n",
       "    // Note - this is a bit hacky, but it is done because the \"notebook_saving.Notebook\"\n",
       "    // IPython event is triggered only after the cells have been serialised, which for\n",
       "    // our purposes (turning an active figure into a static one), is too late.\n",
       "    var cells = IPython.notebook.get_cells();\n",
       "    var ncells = cells.length;\n",
       "    for (var i=0; i<ncells; i++) {\n",
       "        var cell = cells[i];\n",
       "        if (cell.cell_type === 'code'){\n",
       "            for (var j=0; j<cell.output_area.outputs.length; j++) {\n",
       "                var data = cell.output_area.outputs[j];\n",
       "                if (data.data) {\n",
       "                    // IPython >= 3 moved mimebundle to data attribute of output\n",
       "                    data = data.data;\n",
       "                }\n",
       "                if (data['text/html'] == html_output) {\n",
       "                    return [cell, data, j];\n",
       "                }\n",
       "            }\n",
       "        }\n",
       "    }\n",
       "}\n",
       "\n",
       "// Register the function which deals with the matplotlib target/channel.\n",
       "// The kernel may be null if the page has been refreshed.\n",
       "if (IPython.notebook.kernel != null) {\n",
       "    IPython.notebook.kernel.comm_manager.register_target('matplotlib', mpl.mpl_figure_comm);\n",
       "}\n"
      ],
      "text/plain": [
       "<IPython.core.display.Javascript object>"
      ]
     },
     "metadata": {},
     "output_type": "display_data"
    },
    {
     "data": {
      "text/html": [
       "<img src=\"data:image/png;base64,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\" width=\"640\">"
      ],
      "text/plain": [
       "<IPython.core.display.HTML object>"
      ]
     },
     "metadata": {},
     "output_type": "display_data"
    }
   ],
   "source": [
    "nx.draw(G_sc)"
   ]
  },
  {
   "cell_type": "code",
   "execution_count": null,
   "metadata": {},
   "outputs": [],
   "source": []
  }
 ],
 "metadata": {
  "coursera": {
   "course_slug": "python-social-network-analysis",
   "graded_item_id": "jMCHR",
   "launcher_item_id": "7RsKp",
   "part_id": "E9gn5"
  },
  "kernelspec": {
   "display_name": "Python 3",
   "language": "python",
   "name": "python3"
  },
  "language_info": {
   "codemirror_mode": {
    "name": "ipython",
    "version": 3
   },
   "file_extension": ".py",
   "mimetype": "text/x-python",
   "name": "python",
   "nbconvert_exporter": "python",
   "pygments_lexer": "ipython3",
   "version": "3.5.6"
  }
 },
 "nbformat": 4,
 "nbformat_minor": 2
}
